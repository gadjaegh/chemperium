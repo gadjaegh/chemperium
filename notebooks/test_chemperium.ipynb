{
 "cells": [
  {
   "cell_type": "code",
   "execution_count": null,
   "id": "e5552183",
   "metadata": {},
   "outputs": [],
   "source": [
    "import chemperium as cp"
   ]
  },
  {
   "cell_type": "markdown",
   "id": "80370c83",
   "metadata": {},
   "source": [
    "# Liquid Phase"
   ]
  },
  {
   "cell_type": "code",
   "execution_count": null,
   "id": "4821b9c2",
   "metadata": {},
   "outputs": [],
   "source": [
    "dir(cp)"
   ]
  },
  {
   "cell_type": "code",
   "execution_count": null,
   "id": "0053dee6",
   "metadata": {},
   "outputs": [],
   "source": [
    "logp_model = cp.Liquid(\"bp\", \"2d\", r\"C:/Users/mrodobbe/Downloads/caesar-data/\")"
   ]
  },
  {
   "cell_type": "markdown",
   "id": "39e51bb3",
   "metadata": {},
   "source": [
    "{'training_type': 'test', 'transfer': False, 'test': True, 'dir': '/home/ilengyel/.local/lib/python3.7/site-packages', 'mean_readout': True, 'scaler': True, 'ensemble': True, 'ff_3d': False, 'no_hydrogens': False, 'property': ['bp'], 'save_dir': '', 'include_3d': False, 'simple_features': True, 'rdf': False, 'cdf': False, 'gasteiger': False, 'charge': False, 'mfd': False}"
   ]
  },
  {
   "cell_type": "code",
   "execution_count": null,
   "id": "c028d6d6",
   "metadata": {},
   "outputs": [],
   "source": [
    "logp_model.predict([\"CCCC(Cl)CCC\"])"
   ]
  },
  {
   "cell_type": "code",
   "execution_count": null,
   "id": "763a0c5e",
   "metadata": {},
   "outputs": [],
   "source": [
    "preds = logp_model.predict([\"CCCC(Cl)CCC\"])"
   ]
  },
  {
   "cell_type": "code",
   "execution_count": null,
   "id": "9045f109",
   "metadata": {},
   "outputs": [],
   "source": [
    "dfout = logp_model.predict([\"CC1=C(Br)C(=O)N(O)C(=O)[NH]1\"])"
   ]
  },
  {
   "cell_type": "code",
   "execution_count": null,
   "id": "78682f35",
   "metadata": {},
   "outputs": [],
   "source": [
    "logp_model.predict([\"C1CCCCC1\", \"c1ccccc1\", \"Cc1ccccc1\", \"Oc1ccccc1\", \"COc1ccccc1\"])"
   ]
  },
  {
   "cell_type": "code",
   "execution_count": null,
   "id": "4298c494",
   "metadata": {},
   "outputs": [],
   "source": [
    "logp_model.predict(\"c1ncncc1\")"
   ]
  },
  {
   "cell_type": "code",
   "execution_count": null,
   "id": "cb46b0a5",
   "metadata": {},
   "outputs": [],
   "source": [
    "logp_model.predict(\"N#CCCc1ccccc1CCC(=O)O\")"
   ]
  },
  {
   "cell_type": "markdown",
   "id": "2a628121",
   "metadata": {},
   "source": [
    "# Gas-Phase Thermochemistry"
   ]
  },
  {
   "cell_type": "code",
   "execution_count": null,
   "id": "fcf97727",
   "metadata": {},
   "outputs": [],
   "source": [
    "import pandas as pd"
   ]
  },
  {
   "cell_type": "code",
   "execution_count": null,
   "id": "8e9388cd",
   "metadata": {},
   "outputs": [],
   "source": [
    "tg3 = pd.read_pickle(\"../../MPNN3D/new_dfs/cbsqb3.pkl\")"
   ]
  },
  {
   "cell_type": "code",
   "execution_count": null,
   "id": "04376931",
   "metadata": {},
   "outputs": [],
   "source": [
    "tg3.loc[[140, 310, 32615]]"
   ]
  },
  {
   "cell_type": "code",
   "execution_count": null,
   "id": "54752737",
   "metadata": {},
   "outputs": [],
   "source": [
    "smis = tg3.loc[[140, 310, 32615]][\"isosmiles\"].to_list()\n",
    "xyz = tg3.loc[[140, 310, 32615]][\"xyz\"].to_list()\n",
    "b3 = tg3.loc[[140, 310, 32615]][\"H298_b3\"].to_list()"
   ]
  },
  {
   "cell_type": "code",
   "execution_count": null,
   "id": "5082a9a9",
   "metadata": {},
   "outputs": [],
   "source": [
    "cbsqb3 = cp.Thermo(\"cbs-qb3\", \"3d\")"
   ]
  },
  {
   "cell_type": "code",
   "execution_count": null,
   "id": "b8c6f1f6",
   "metadata": {},
   "outputs": [],
   "source": [
    "cbsqb3.predict_gibbs(smiles=smis, xyz=xyz, llot=b3, t=298.15, quality_check=True)"
   ]
  },
  {
   "cell_type": "code",
   "execution_count": null,
   "id": "a0a3a42d",
   "metadata": {},
   "outputs": [],
   "source": [
    "ck=cbsqb3.get_nasa_polynomials(names=[\"benzene\", \"toluene\", \"anisole\"], \n",
    "                               smiles=smis, xyz=xyz, llot=b3, chemkin=True)\n",
    "print(ck)"
   ]
  },
  {
   "cell_type": "code",
   "execution_count": null,
   "id": "dd3c6311",
   "metadata": {},
   "outputs": [],
   "source": [
    "g3 = cp.Thermo(\"g3mp2b3\", \"2d\")"
   ]
  },
  {
   "cell_type": "code",
   "execution_count": null,
   "id": "ca284a77",
   "metadata": {},
   "outputs": [],
   "source": [
    "g3.predict_enthalpy(smiles=[\"C1CCCCC1\", \"c1ccccc1\", \"Cc1ccccc1\", \"Oc1ccccc1\", \"COc1ccccc1\"])"
   ]
  },
  {
   "cell_type": "code",
   "execution_count": null,
   "id": "f3c5c215",
   "metadata": {},
   "outputs": [],
   "source": [
    "ck=g3.get_nasa_polynomials([\"cyclohexane\", \"benzene\", \"toluene\", \"phenol\", \"anisole\"], smiles=[\"C1CCCCC1\", \"c1ccccc1\", \"Cc1ccccc1\", \"Oc1ccccc1\", \"COc1ccccc1\"], chemkin=True)\n",
    "print(ck)"
   ]
  },
  {
   "cell_type": "markdown",
   "id": "02d0bd98",
   "metadata": {},
   "source": [
    "# Representation"
   ]
  },
  {
   "cell_type": "code",
   "execution_count": null,
   "id": "ec895b18",
   "metadata": {},
   "outputs": [],
   "source": [
    "rep = cp.Representation()"
   ]
  },
  {
   "cell_type": "code",
   "execution_count": null,
   "id": "552a29f6",
   "metadata": {},
   "outputs": [],
   "source": [
    "smis, reps = rep.predict([\"C1CCCCC1\", \"c1ccccc1\", \"Cc1ccccc1\", \"Oc1ccccc1\", \"COc1ccccc1\"])"
   ]
  },
  {
   "cell_type": "code",
   "execution_count": null,
   "id": "6cdac426",
   "metadata": {},
   "outputs": [],
   "source": [
    "reps.shape"
   ]
  },
  {
   "cell_type": "markdown",
   "id": "6782ea78",
   "metadata": {},
   "source": [
    "# Safety"
   ]
  },
  {
   "cell_type": "code",
   "execution_count": null,
   "id": "db2ea278",
   "metadata": {},
   "outputs": [],
   "source": [
    "safe = cp.Safety(r\"C:/Users/mrodobbe/Downloads/\")"
   ]
  },
  {
   "cell_type": "code",
   "execution_count": null,
   "id": "1be8d2f1",
   "metadata": {},
   "outputs": [],
   "source": [
    "safe.predict([\"CCOC(=O)c1ccccc1C(=O)OCC\", \"C1CCCCC1\", \"c1ccccc1\", \"Cc1ccccc1\", \"Oc1ccccc1\", \"COc1ccccc1\"])"
   ]
  },
  {
   "cell_type": "code",
   "execution_count": null,
   "id": "bfd1c1c8",
   "metadata": {},
   "outputs": [],
   "source": []
  }
 ],
 "metadata": {
  "kernelspec": {
   "display_name": "chemperium-package",
   "language": "python",
   "name": "chemperium-package"
  },
  "language_info": {
   "codemirror_mode": {
    "name": "ipython",
    "version": 3
   },
   "file_extension": ".py",
   "mimetype": "text/x-python",
   "name": "python",
   "nbconvert_exporter": "python",
   "pygments_lexer": "ipython3",
   "version": "3.11.9"
  }
 },
 "nbformat": 4,
 "nbformat_minor": 5
}
